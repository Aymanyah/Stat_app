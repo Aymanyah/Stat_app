{
  "nbformat": 4,
  "nbformat_minor": 0,
  "metadata": {
    "colab": {
      "provenance": [],
      "authorship_tag": "ABX9TyPpJb72bgGwpA2pLOJEt23w",
      "include_colab_link": true
    },
    "kernelspec": {
      "name": "python3",
      "display_name": "Python 3"
    },
    "language_info": {
      "name": "python"
    }
  },
  "cells": [
    {
      "cell_type": "markdown",
      "metadata": {
        "id": "view-in-github",
        "colab_type": "text"
      },
      "source": [
        "<a href=\"https://colab.research.google.com/github/Aymanyah/Stat_app/blob/main/scouting_stat_app.ipynb\" target=\"_parent\"><img src=\"https://colab.research.google.com/assets/colab-badge.svg\" alt=\"Open In Colab\"/></a>"
      ]
    },
    {
      "cell_type": "code",
      "execution_count": 4,
      "metadata": {
        "id": "gz4X8T7kX-2F"
      },
      "outputs": [],
      "source": [
        "import pandas as pd\n",
        "import numpy as np\n",
        "import matplotlib.pyplot as plt\n",
        "import seaborn as sns"
      ]
    },
    {
      "cell_type": "code",
      "source": [
        "df = pd.read_csv(\"all_leagues_merged_transformed.csv\")"
      ],
      "metadata": {
        "id": "Af1P3zrztlVF"
      },
      "execution_count": 5,
      "outputs": []
    },
    {
      "cell_type": "code",
      "source": [
        "print(df.shape)\n",
        "print(df.head())\n",
        "print(df.info())\n",
        "print(df.describe(include='all'))"
      ],
      "metadata": {
        "colab": {
          "base_uri": "https://localhost:8080/"
        },
        "id": "zs6RfeMitp14",
        "outputId": "31862551-17da-4ab9-f34b-698fe37cefec"
      },
      "execution_count": 6,
      "outputs": [
        {
          "output_type": "stream",
          "name": "stdout",
          "text": [
            "(10015, 44)\n",
            "                                              league  season           team  \\\n",
            "0                                        ITA-Serie A  2020.0          Genoa   \n",
            "1                                        ITA-Serie A  2020.0      Sampdoria   \n",
            "2                                        ITA-Serie A  2020.0         Torino   \n",
            "3                                        ITA-Serie A  2020.0  Hellas Verona   \n",
            "4  ITA-Serie A,2020,Bologna,Andreas Skov Olsen,DE...     NaN            NaN   \n",
            "\n",
            "             player nation  pos   age    born  Minutes de jeu  \\\n",
            "0   Alberto Paleari    ITA   GK  27.0  1992.0           206.0   \n",
            "1   Antonio Palumbo    ITA   MF  23.0  1996.0             7.0   \n",
            "2  Antonio Sanabria    PAR   FW  24.0  1996.0           978.0   \n",
            "3   AntonÃ­n BarÃ¡k    CZE   MF  25.0  1994.0          2765.0   \n",
            "4               NaN    NaN  NaN   NaN     NaN             NaN   \n",
            "\n",
            "   # 90 min jouÃ©es  ...  Interceptions  Tacles rÃ©ussis + interceptions  \\\n",
            "0               2.3  ...       0.000000                         0.000000   \n",
            "1               0.1  ...       0.000000                         0.000000   \n",
            "2              10.9  ...       0.458716                         1.192661   \n",
            "3              30.7  ...       0.390879                         1.368078   \n",
            "4               NaN  ...            NaN                              NaN   \n",
            "\n",
            "   DÃ©gagements  Erreurs menant Ã  un tir adverse       Tirs  Tirs cadrÃ©s  \\\n",
            "0      0.434783                          0.000000   0.000000      0.000000   \n",
            "1      0.000000                          0.000000  10.000000      0.000000   \n",
            "2      0.733945                          0.000000   1.834862      1.009174   \n",
            "3      1.237785                          0.032573   1.465798      0.521173   \n",
            "4           NaN                               NaN        NaN           NaN   \n",
            "\n",
            "   Distance totale des passes > 10m avant effectuÃ©es  \\\n",
            "0                                         377.391304    \n",
            "1                                           0.000000    \n",
            "2                                          35.596330    \n",
            "3                                         136.807818    \n",
            "4                                                NaN    \n",
            "\n",
            "   Passes menant Ã  un but   Touches ballon en jeu  Passes reÃ§ues  \n",
            "0                  0.000000              36.521739       14.782609  \n",
            "1                  0.000000              20.000000       20.000000  \n",
            "2                  0.642202              33.394495       26.238532  \n",
            "3                  0.781759              52.052117       35.179153  \n",
            "4                       NaN                    NaN             NaN  \n",
            "\n",
            "[5 rows x 44 columns]\n",
            "<class 'pandas.core.frame.DataFrame'>\n",
            "RangeIndex: 10015 entries, 0 to 10014\n",
            "Data columns (total 44 columns):\n",
            " #   Column                                              Non-Null Count  Dtype  \n",
            "---  ------                                              --------------  -----  \n",
            " 0   league                                              10015 non-null  object \n",
            " 1   season                                              7172 non-null   float64\n",
            " 2   team                                                7172 non-null   object \n",
            " 3   player                                              7172 non-null   object \n",
            " 4   nation                                              7172 non-null   object \n",
            " 5   pos                                                 7172 non-null   object \n",
            " 6   age                                                 7172 non-null   float64\n",
            " 7   born                                                7172 non-null   float64\n",
            " 8   Minutes de jeu                                      7172 non-null   float64\n",
            " 9   # 90 min jouÃ©es                                    7172 non-null   float64\n",
            " 10  G                                                   7172 non-null   float64\n",
            " 11  A                                                   7172 non-null   float64\n",
            " 12  G+A                                                 7172 non-null   float64\n",
            " 13  G-PK                                                7172 non-null   float64\n",
            " 14   G+A-PK                                             7172 non-null   float64\n",
            " 15   xG                                                 7172 non-null   float64\n",
            " 16   xAG                                                7172 non-null   float64\n",
            " 17  xG+xAG                                              7172 non-null   float64\n",
            " 18   npxG                                               7172 non-null   float64\n",
            " 19   npxG+xAG                                           7172 non-null   float64\n",
            " 20  % dribble  rÃ©ussis                                 5858 non-null   float64\n",
            " 21  % passes rÃ©ussies                                  7172 non-null   float64\n",
            " 22  % passes courtes rÃ©ussies                          7172 non-null   float64\n",
            " 23  % passes moyennes rÃ©ussies                         7172 non-null   float64\n",
            " 24  % passes longues rÃ©ussies                          6759 non-null   float64\n",
            " 25  % duels aÃ©riens gagnÃ©s                            6563 non-null   float64\n",
            " 26  xG / Tir                                            5648 non-null   float64\n",
            " 27  Valeur marchande (euros)                            7172 non-null   float64\n",
            " 28  ChevauchÃ©e avant  >5m                              7042 non-null   float64\n",
            " 29  Passes avant >10m                                   7042 non-null   float64\n",
            " 30  Passes > 10m vers l'avant reÃ§ues                   7042 non-null   float64\n",
            " 31  Tacles rÃ©ussis qui gagnent la balle                7042 non-null   float64\n",
            " 32  Dribbles subis perdus                               7042 non-null   float64\n",
            " 33  Blocs totaux                                        7042 non-null   float64\n",
            " 34  Interceptions                                       7042 non-null   float64\n",
            " 35  Tacles rÃ©ussis + interceptions                     7042 non-null   float64\n",
            " 36  DÃ©gagements                                        7042 non-null   float64\n",
            " 37  Erreurs menant Ã  un tir adverse                    7042 non-null   float64\n",
            " 38  Tirs                                                7042 non-null   float64\n",
            " 39  Tirs cadrÃ©s                                        7042 non-null   float64\n",
            " 40  Distance totale des passes > 10m avant effectuÃ©es  7042 non-null   float64\n",
            " 41  Passes menant Ã  un but                             7042 non-null   float64\n",
            " 42  Touches ballon en jeu                               7042 non-null   float64\n",
            " 43  Passes reÃ§ues                                      7042 non-null   float64\n",
            "dtypes: float64(39), object(5)\n",
            "memory usage: 3.4+ MB\n",
            "None\n",
            "                    league       season            team         player nation  \\\n",
            "count                10015  7172.000000            7172           7172   7172   \n",
            "unique                2697          NaN             122           3290    111   \n",
            "top     ENG-Premier League          NaN  Manchester Utd  Fabio Depaoli    ESP   \n",
            "freq                  1564          NaN              92             17   1018   \n",
            "mean                   NaN  2021.446180             NaN            NaN    NaN   \n",
            "std                    NaN     1.119933             NaN            NaN    NaN   \n",
            "min                    NaN  2020.000000             NaN            NaN    NaN   \n",
            "25%                    NaN  2020.000000             NaN            NaN    NaN   \n",
            "50%                    NaN  2022.000000             NaN            NaN    NaN   \n",
            "75%                    NaN  2022.000000             NaN            NaN    NaN   \n",
            "max                    NaN  2023.000000             NaN            NaN    NaN   \n",
            "\n",
            "         pos          age         born  Minutes de jeu  # 90 min jouÃ©es  ...  \\\n",
            "count   7172  7172.000000  7172.000000     7172.000000       7172.000000  ...   \n",
            "unique     4          NaN          NaN             NaN               NaN  ...   \n",
            "top       DF          NaN          NaN             NaN               NaN  ...   \n",
            "freq    2972          NaN          NaN             NaN               NaN  ...   \n",
            "mean     NaN    25.531372  1995.363358     1360.264361         15.114180  ...   \n",
            "std      NaN     4.541599     4.740881     1003.487055         11.150168  ...   \n",
            "min      NaN    15.000000  1978.000000        1.000000          0.000000  ...   \n",
            "25%      NaN    22.000000  1992.000000      409.000000          4.500000  ...   \n",
            "50%      NaN    25.000000  1996.000000     1290.000000         14.300000  ...   \n",
            "75%      NaN    29.000000  1999.000000     2197.250000         24.400000  ...   \n",
            "max      NaN    42.000000  2007.000000     3420.000000         38.000000  ...   \n",
            "\n",
            "        Interceptions  Tacles rÃ©ussis + interceptions  DÃ©gagements  \\\n",
            "count     7042.000000                      7042.000000   7042.000000   \n",
            "unique            NaN                              NaN           NaN   \n",
            "top               NaN                              NaN           NaN   \n",
            "freq              NaN                              NaN           NaN   \n",
            "mean         0.937444                         2.472335      1.809475   \n",
            "std          0.934235                         1.990877      1.713300   \n",
            "min          0.000000                         0.000000      0.000000   \n",
            "25%          0.184673                         1.142857      0.526316   \n",
            "50%          0.884956                         2.500000      1.290323   \n",
            "75%          1.395349                         3.412183      2.803359   \n",
            "max         10.000000                        30.000000     20.000000   \n",
            "\n",
            "        Erreurs menant Ã  un tir adverse         Tirs  Tirs cadrÃ©s  \\\n",
            "count                        7042.000000  7042.000000   7042.000000   \n",
            "unique                               NaN          NaN           NaN   \n",
            "top                                  NaN          NaN           NaN   \n",
            "freq                                 NaN          NaN           NaN   \n",
            "mean                            0.034741     1.009417      0.322141   \n",
            "std                             0.161381     1.261297      0.570466   \n",
            "min                             0.000000     0.000000      0.000000   \n",
            "25%                             0.000000     0.212202      0.000000   \n",
            "50%                             0.000000     0.634385      0.142857   \n",
            "75%                             0.040486     1.428571      0.414508   \n",
            "max                            10.000000    20.000000     10.000000   \n",
            "\n",
            "        Distance totale des passes > 10m avant effectuÃ©es  \\\n",
            "count                                         7042.000000    \n",
            "unique                                                NaN    \n",
            "top                                                   NaN    \n",
            "freq                                                  NaN    \n",
            "mean                                           236.689726    \n",
            "std                                            156.147750    \n",
            "min                                              0.000000    \n",
            "25%                                            118.840275    \n",
            "50%                                            222.644377    \n",
            "75%                                            325.090950    \n",
            "max                                           1420.000000    \n",
            "\n",
            "        Passes menant Ã  un but   Touches ballon en jeu  Passes reÃ§ues  \n",
            "count                7042.000000            7042.000000     7042.000000  \n",
            "unique                       NaN                    NaN             NaN  \n",
            "top                          NaN                    NaN             NaN  \n",
            "freq                         NaN                    NaN             NaN  \n",
            "mean                    0.703401              56.068961       35.905824  \n",
            "std                     0.925474              19.359440       15.928583  \n",
            "min                     0.000000               5.000000        0.000000  \n",
            "25%                     0.111111              41.158537       24.917127  \n",
            "50%                     0.512092              55.639964       34.034810  \n",
            "75%                     1.009042              67.924258       44.354839  \n",
            "max                    20.000000             250.000000      170.000000  \n",
            "\n",
            "[11 rows x 44 columns]\n"
          ]
        }
      ]
    },
    {
      "cell_type": "code",
      "source": [
        "sns.histplot(df['age'], bins=20)\n",
        "plt.title(\"Répartition des âges\")\n",
        "plt.show()"
      ],
      "metadata": {
        "colab": {
          "base_uri": "https://localhost:8080/",
          "height": 472
        },
        "id": "eNB5wiZPt5_Y",
        "outputId": "ac236155-a025-4958-fd62-1f91803c9db8"
      },
      "execution_count": 7,
      "outputs": [
        {
          "output_type": "display_data",
          "data": {
            "text/plain": [
              "<Figure size 640x480 with 1 Axes>"
            ],
            "image/png": "[encoded data removed]"
          },
          "metadata": {}
        }
      ]
    }
  ]
}